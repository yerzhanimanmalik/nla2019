{
 "cells": [
  {
   "cell_type": "markdown",
   "metadata": {
    "slideshow": {
     "slide_type": "slide"
    }
   },
   "source": [
    "# Lecture 14: Structured matrices, FFT, convolutions, Toeplitz matrices"
   ]
  },
  {
   "cell_type": "markdown",
   "metadata": {
    "slideshow": {
     "slide_type": "slide"
    }
   },
   "source": [
    "## Previous lecture\n",
    "\n",
    "- Krylov methods: Arnoldi relation, CG, GMRES\n",
    "- Preconditioners \n",
    "    - Jacobi\n",
    "    - Gauss-Seidel\n",
    "    - SSOR\n",
    "    - ILU and its modifications"
   ]
  },
  {
   "cell_type": "markdown",
   "metadata": {
    "slideshow": {
     "slide_type": "slide"
    }
   },
   "source": [
    "## Other structured matrices\n",
    "\n",
    "- Up to now, we discussed preconditioning only for **sparse matrices**\n",
    "- But iterative methods work well for any matrices that have fast black-box matrix-by-vector product\n",
    "- Important class of such matrices are **Toeplitz matrices** (and **Hankel matrices**) and their **multilevel** variants\n",
    "\n",
    "They are directly connected to the **convolution** operation and **Fast Fourier Transform**."
   ]
  },
  {
   "cell_type": "markdown",
   "metadata": {
    "slideshow": {
     "slide_type": "slide"
    }
   },
   "source": [
    "## Convolution \n",
    "\n",
    "- One of the key operation in signal processing/machine learning is the **convolution of two functions**.\n",
    "\n",
    "- Let $x(t)$ and $y(t)$ be two given functions. Their convolution is defined as\n",
    "\n",
    "$$(x * y)(t) = \\int_{-\\infty}^{\\infty} x(\\tau) y(t -  \\tau) d \\tau.$$"
   ]
  },
  {
   "cell_type": "markdown",
   "metadata": {
    "slideshow": {
     "slide_type": "slide"
    }
   },
   "source": [
    "## Convolution theorem and Fourier transform\n",
    "\n",
    "A well-known fact: a *convolution* in the **time domain** is a *product* in the **frequency domain**. \n",
    "\n",
    "- Time-frequency transformation is given by the **Fourier transform**:\n",
    "\n",
    "$$\\widehat{x}(w) = (\\mathcal{F}(x))(w) = \\int_{-\\infty}^{\\infty} e^{i w t} x(t) dt.$$\n",
    "\n",
    "- Then, \n",
    "\n",
    "$$\\mathcal{F}(x * y) = \\mathcal{F}(x) \\mathcal{F}(y).$$\n",
    "\n",
    "- Thus, the \"algorithm\" for the computation of the convolution can be:\n",
    "\n",
    "\n",
    "1. Compute Fourier transform of $x(t)$ and $y(t)$. \n",
    "2. Compute their product\n",
    "3. Compute inverse Fourier transform"
   ]
  },
  {
   "cell_type": "markdown",
   "metadata": {
    "slideshow": {
     "slide_type": "slide"
    }
   },
   "source": [
    "## Discrete convolution operation\n",
    "\n",
    "$$(x * y)(t) = \\int_{-\\infty}^{\\infty} x(\\tau) y(t -  \\tau) d \\tau.$$\n",
    "\n",
    "Let us approximate the integral by a quadrature sum on a uniform grid, and store the signal at equidistant points.\n",
    "\n",
    "Then we are left with the summation\n",
    "\n",
    "$$z_i = \\sum_{j=0}^{n-1} x_j y_{i - j},$$\n",
    "\n",
    "which is called **discrete convolution**. This can be thought as an application of a filter with coefficients $x$ to a signal $y$. \n",
    "\n",
    "There are different possible filters for different purposes, but they all utilize the **shift-invariant structure**."
   ]
  },
  {
   "cell_type": "markdown",
   "metadata": {
    "slideshow": {
     "slide_type": "slide"
    }
   },
   "source": [
    "## Discrete convolution and Toeplitz matrices\n",
    "\n",
    "A discrete convolution can be thought as a matrix-by-vector product:\n",
    "\n",
    "$$z_i = \\sum_{j=0}^{n-1} x_j y_{i - j}, \\Leftrightarrow z = Ax$$\n",
    "\n",
    "where the matrix $A$ elements are given as $a_{ij} = y_{i-j}$, i.e., they depend only on the difference between the row index and the column index.\n"
   ]
  },
  {
   "cell_type": "markdown",
   "metadata": {
    "slideshow": {
     "slide_type": "slide"
    }
   },
   "source": [
    "## Toeplitz matrices: definition\n",
    "\n",
    "A matrix is called **Toeplitz** if its elements are defined as\n",
    "\n",
    "$$a_{ij} = t_{i - j}.$$\n",
    "\n",
    "- A Toeplitz matrix is completely defined by its first column and first row (i.e., $2n-1$ parameters).\n",
    "\n",
    "- It is a **dense matrix**, however it is a **structured matrix** (i.e., defined by $\\mathcal{O}(n)$ parameters).\n",
    "\n",
    "- And the main operation in the discrete convolution is the product of Toeplitz matrix by vector.\n",
    "\n",
    "- Can we compute it faster than $\\mathcal{O}(n^2)$?"
   ]
  },
  {
   "cell_type": "markdown",
   "metadata": {
    "slideshow": {
     "slide_type": "slide"
    }
   },
   "source": [
    "## Toeplitz and circulant matrix\n",
    "\n",
    "- For a special class of Toeplitz matrices, named **circulant matrices** the fast matrix-by-vector product can be done.\n",
    "\n",
    "- A matrix $C$ is called **circulant**, if \n",
    "\n",
    "$$C_{ij} = c_{i - j \\mod n},$$\n",
    "\n",
    "i.e. it periodicaly wraps\n",
    "\n",
    "$$C = \\begin{bmatrix} c_0 & c_1 & c_2 & c_3 \\\\\n",
    " c_3 & c_0 & c_1 & c_2 \\\\\n",
    " c_2 & c_3 & c_0 & c_1 \\\\\n",
    " c_1 & c_2 & c_3 & c_0 \\\\\n",
    " \\end{bmatrix}.\n",
    " $$\n",
    " \n",
    "- These matrices have the same **eigenvectors**, given by the Discrete Fourier Transform (DFT)."
   ]
  },
  {
   "cell_type": "markdown",
   "metadata": {
    "slideshow": {
     "slide_type": "slide"
    }
   },
   "source": [
    "## Spectral theorem for circulant matrices\n",
    "\n",
    "**Theorem:**\n",
    "\n",
    "Any circulant matrix can be represented in the form\n",
    "\n",
    "$$C = \\frac{1}{n} F^* \\Lambda F,$$\n",
    "\n",
    "where $F$ is the **Fourier matrix** with the elements\n",
    "\n",
    "$$F_{kl} = w_n^{kl}, \\quad k, l = 0, \\ldots, n-1, \\quad w_n = e^{-\\frac{2 \\pi i}{n}},$$\n",
    "\n",
    "and matrix $\\Lambda = \\text{diag}(\\lambda)$ is the diagonal matrix and\n",
    "\n",
    "$$\\lambda = F c, $$\n",
    "\n",
    "where $c$ is the first column of the circulant matrix $C$.\n",
    "\n",
    "The proof will be later: now we need to study the FFT matrix."
   ]
  },
  {
   "cell_type": "markdown",
   "metadata": {
    "slideshow": {
     "slide_type": "slide"
    }
   },
   "source": [
    "## Fourier matrix\n",
    "\n",
    "The Fourier matrix is defined as:\n",
    "\n",
    "$$\n",
    "F_n =\n",
    "\\begin{pmatrix}\n",
    "1 & 1 & 1 & \\dots & 1 \\\\\n",
    "1 & w^{1\\cdot 1}_n & w^{1\\cdot 2}_n & \\dots & w^{1\\cdot (n-1)}_n\\\\\n",
    "1 & w^{2\\cdot 1}_n & w^{2\\cdot 2}_n & \\dots & w^{2\\cdot (n-1)}_n\\\\\n",
    "\\dots & \\dots & \\dots &\\dots &\\dots \\\\\n",
    "1 & w^{(n-1)\\cdot 1}_n & w^{(n-1)\\cdot 2}_n & \\dots & w^{(n-1)\\cdot (n-1)}_n\\\\\n",
    "\\end{pmatrix},\n",
    "$$\n",
    "\n",
    "or equivalently\n",
    "\n",
    "$$ F_n = \\{ w_n^{kl} \\}_{k,l=0}^{n-1}, $$\n",
    "\n",
    "where \n",
    "\n",
    "$$w_n = e^{-\\frac{2\\pi i}{n}}.$$"
   ]
  },
  {
   "cell_type": "markdown",
   "metadata": {
    "slideshow": {
     "slide_type": "slide"
    }
   },
   "source": [
    "**Properties:**\n",
    "* Symmetric (not Hermitian!)\n",
    "* Unitary up to a scaling factor: $F_n^* F_n = F_n F_n^* = nI$ (check this fact). Therefore $F_n^{-1} = \\frac{1}{n}F^*_n$\n",
    "* Can be multiplied by a vector (called dicrete Fourier transform or DFT) with <font color='red'>$\\mathcal{O}(n \\log n)$</font> complexity (called fast Fourier transform or <font color='red'>FFT</font>)! FFT helps to analyze spectrum of a signal and, as we will see later, helps to do fast mutiplications with certain types of matrices."
   ]
  },
  {
   "cell_type": "code",
   "execution_count": 1,
   "metadata": {
    "slideshow": {
     "slide_type": "slide"
    }
   },
   "outputs": [
    {
     "data": {
      "text/plain": [
       "Text(0.5,1,'Initial signal')"
      ]
     },
     "execution_count": 1,
     "metadata": {},
     "output_type": "execute_result"
    },
    {
     "data": {
      "image/png": "[encoded data removed]",
      "text/plain": [
       "<Figure size 432x288 with 1 Axes>"
      ]
     },
     "metadata": {
      "needs_background": "light"
     },
     "output_type": "display_data"
    }
   ],
   "source": [
    "%matplotlib inline\n",
    "import matplotlib.pyplot as plt\n",
    "import numpy as np\n",
    "\n",
    "\n",
    "N = 1000\n",
    "dt = 1.0 / 800.0\n",
    "x = np.linspace(0.0, N*dt, N)\n",
    "y = np.sin(50.0 * 2.0*np.pi*x) + 0.5*np.sin(80.0 * 2.0*np.pi*x) + 0.2*np.sin(300.0 * 2.0*np.pi*x)\n",
    "plt.plot(x, y)\n",
    "plt.xlabel('Time')\n",
    "plt.ylabel('Signal')\n",
    "plt.title('Initial signal')"
   ]
  },
  {
   "cell_type": "code",
   "execution_count": 2,
   "metadata": {
    "slideshow": {
     "slide_type": "slide"
    }
   },
   "outputs": [
    {
     "data": {
      "text/plain": [
       "Text(0.5,1,'Discrete Fourier transform')"
      ]
     },
     "execution_count": 2,
     "metadata": {},
     "output_type": "execute_result"
    },
    {
     "data": {
      "image/png": "[encoded data removed]",
      "text/plain": [
       "<Figure size 432x288 with 1 Axes>"
      ]
     },
     "metadata": {
      "needs_background": "light"
     },
     "output_type": "display_data"
    }
   ],
   "source": [
    "yf = np.fft.fft(y)\n",
    "xf = np.linspace(0.0, 1.0/(2.0*dt), N//2)\n",
    "plt.plot(xf, 2.0/N * np.abs(yf[0:N//2])) #Note: N/2 to N will give negative frequencies\n",
    "plt.xlabel('Frequency')\n",
    "plt.ylabel('Amplitude')\n",
    "plt.title('Discrete Fourier transform')"
   ]
  },
  {
   "cell_type": "markdown",
   "metadata": {
    "slideshow": {
     "slide_type": "slide"
    }
   },
   "source": [
    "## Fast Fourier transform (FFT)\n",
    "Here we consider a matrix interpretation of the standard [Cooley-Tukey algorithm (1965)](https://www.ams.org/journals/mcom/1965-19-090/S0025-5718-1965-0178586-1/S0025-5718-1965-0178586-1.pdf), which has underlying **divide and conquer** idea. Note that in packages more advanced versions are used.\n",
    "\n",
    "- Let $n$ be a power of 2. \n",
    "- First of all we <font color='red'> permute the rows </font> of the Fourier matrix such that the first $n/2$ rows of the new matrix had row numbers <font color='red'>$1,3,5,\\dots,n-1$</font> and the last $n/2$ rows had row numbers <font color='red'>$2,4,6\\dots,n$</font>. \n",
    "\n",
    "- This permutation can be expressed in terms of multiplication by permutation matrix $P_n$:\n",
    "\n",
    "$$\n",
    "P_n =\n",
    "\\begin{pmatrix}\n",
    "1 & 0 & 0 & 0 & \\dots & 0 & 0 \\\\\n",
    "0 & 0 & 1 & 0 &\\dots & 0 & 0 \\\\\n",
    "\\vdots & & & & & & \\vdots \\\\\n",
    "0 & 0 & 0 & 0 &\\dots & 1 & 0 \\\\\n",
    "\\hline\n",
    "0 & 1 & 0 & 0 & \\dots & 0 & 0 \\\\\n",
    "0 & 0 & 0 & 1 &\\dots & 0 & 0 \\\\\n",
    "\\vdots & & & & & & \\vdots \\\\\n",
    "0 & 0 & 0 & 0 &\\dots & 0 & 1 \n",
    "\\end{pmatrix},\n",
    "$$"
   ]
  },
  {
   "cell_type": "markdown",
   "metadata": {
    "slideshow": {
     "slide_type": "slide"
    }
   },
   "source": [
    "Hence,\n",
    "\n",
    "$$\n",
    "P_n F_n =\n",
    "\\begin{pmatrix}\n",
    "1 & 1 & 1 & \\dots & 1 \\\\\n",
    "1 & w^{2\\cdot 1}_n & w^{2\\cdot 2}_n & \\dots & w^{2\\cdot (n-1)}_n\\\\\n",
    "1 & w^{4\\cdot 1}_n & w^{4\\cdot 2}_n & \\dots & w^{4\\cdot (n-1)}_n\\\\\n",
    "\\vdots & & & & \\vdots\\\\\n",
    "1 & w^{(n-2)\\cdot 1}_n & w^{(n-2)\\cdot 2}_n & \\dots & w^{(n-2)\\cdot (n-1)}_n\\\\\n",
    "\\hline\n",
    "1 & w^{1\\cdot 1}_n & w^{1\\cdot 2}_n & \\dots & w^{1\\cdot (n-1)}_n\\\\\n",
    "1 & w^{3\\cdot 1}_n & w^{3\\cdot 2}_n & \\dots & w^{3\\cdot (n-1)}_n\\\\           \n",
    "\\vdots & & & & \\vdots\\\\\n",
    "1 & w^{(n-1)\\cdot 1}_n & w^{(n-1)\\cdot 2}_n & \\dots & w^{(n-1)\\cdot (n-1)}_n\\\\\n",
    "\\end{pmatrix},\n",
    "$$\n",
    "\n",
    "Now let us imagine that we separated its columns and rows by two parts each of size $n/2$."
   ]
  },
  {
   "cell_type": "markdown",
   "metadata": {
    "slideshow": {
     "slide_type": "slide"
    }
   },
   "source": [
    "As a result we get <font color='red'>$2\\times 2$ block matrix</font> that has the following form\n",
    "\n",
    "$$\n",
    "P_n F_n =\n",
    "\\begin{pmatrix}\n",
    "\\left\\{w^{2kl}_n\\right\\} & \\left\\{w_n^{2k\\left(\\frac{n}{2} + l\\right)}\\right\\} \\\\\n",
    "\\left\\{w_n^{(2k+1)l}\\right\\} & \\left\\{w_n^{(2k+1)\\left(\\frac{n}{2} + l\\right)}\\right\\}\n",
    "\\end{pmatrix},\n",
    "\\quad k,l = 0,\\dots, \\frac{n}{2}-1.\n",
    "$$\n",
    "\n",
    "So far it does not look like something that works faster :) But we will see that in a minute.\n",
    "Lets have a more precise look at the first block $\\left\\{w^{2kl}_n\\right\\}$:\n",
    "\n",
    "$$\n",
    "w^{2kl}_n = e^{-2kl\\frac{2\\pi i}{n}} = e^{-kl\\frac{2\\pi i}{n/2}} = w^{kl}_{n/2}.\n",
    "$$\n",
    "\n",
    "So this block is exactly twice smaller Fourier matrix $F_{n/2}$!\n",
    "\n",
    "<!---\n",
    "Now we can write\n",
    "\n",
    "$$\n",
    "\\begin{pmatrix}\n",
    "F_{n/2} & \\left\\{w_n^{2k\\left(\\frac{n}{2} + l\\right)}\\right\\} \\\\\n",
    "\\left\\{w_n^{(2k+1)l}\\right\\} & \\left\\{w_n^{(2k+1)\\left(\\frac{n}{2} + l\\right)}\\right\\}\n",
    "\\end{pmatrix}\n",
    "$$\n",
    "\n",
    "-->\n",
    "The block $\\left\\{w_n^{(2k+1)l}\\right\\}$ can be written as\n",
    "\n",
    "$$\n",
    "w_n^{(2k+1)l} = w_n^{2kl + l} = w_n^{l} w_n^{2kl} = w_n^{l} w_{n/2}^{kl},\n",
    "$$\n",
    "\n",
    "which can be written as $W_{n/2}F_{n/2}$, where \n",
    "\n",
    "$$W_{n/2} = \\text{diag}(1,w_n,w_n^2,\\dots,w_n^{n/2-1}).$$"
   ]
  },
  {
   "cell_type": "markdown",
   "metadata": {
    "slideshow": {
     "slide_type": "slide"
    }
   },
   "source": [
    "Doing the same tricks for the other blocks we will finally get\n",
    "\n",
    "$$\n",
    "P_n F_n =\n",
    "\\begin{pmatrix}\n",
    "F_{n/2} & F_{n/2} \\\\\n",
    "F_{n/2}W_{n/2} & -F_{n/2}W_{n/2}\n",
    "\\end{pmatrix} =\n",
    "\\begin{pmatrix}\n",
    "F_{n/2} & 0 \\\\\n",
    "0 & F_{n/2}\n",
    "\\end{pmatrix}\n",
    "\\begin{pmatrix}\n",
    "I_{n/2} & I_{n/2} \\\\\n",
    "W_{n/2} & -W_{n/2}\n",
    "\\end{pmatrix}.\n",
    "$$\n",
    "\n",
    "- Thus, we <font color='red'>reduced multiplication by $F_n$ to 2 multiplications by $F_{n/2}$</font> and cheap multiplications by diagonal matrices. \n",
    "- If we apply the obtained expressions recursively to $F_{n/2}$, we will get <font color='red'>$\\mathcal{O}(n\\log n)$ </font> complexity."
   ]
  },
  {
   "cell_type": "code",
   "execution_count": 2,
   "metadata": {
    "slideshow": {
     "slide_type": "slide"
    }
   },
   "outputs": [
    {
     "name": "stdout",
     "output_type": "stream",
     "text": [
      "Full matvec time = 0.06917304271482862\n",
      "FFT time = 3.3967071485988395e-05\n",
      "Relative error = 1.550139758681484e-12\n"
     ]
    }
   ],
   "source": [
    "#FFT vs full matvec\n",
    "import time\n",
    "import numpy as np\n",
    "import scipy as sp\n",
    "import scipy.linalg\n",
    "\n",
    "n = 10000\n",
    "F = sp.linalg.dft(n)\n",
    "x = np.random.randn(n)\n",
    "\n",
    "y_full = F.dot(x)\n",
    "\n",
    "full_mv_time = %timeit -q -o F.dot(x)\n",
    "print('Full matvec time =', full_mv_time.average)\n",
    "\n",
    "y_fft = np.fft.fft(x)\n",
    "fft_mv_time = %timeit -q -o np.fft.fft(x)\n",
    "print('FFT time =', fft_mv_time.average)\n",
    "\n",
    "print('Relative error =', (np.linalg.norm(y_full - y_fft)) / np.linalg.norm(y_full))"
   ]
  },
  {
   "cell_type": "markdown",
   "metadata": {
    "slideshow": {
     "slide_type": "slide"
    }
   },
   "source": [
    "## Circulant matrices\n",
    "\n",
    "FFT helps to multiply fast by certain types of matrices. We start from a circulant matrix:\n",
    "\n",
    "$$\n",
    "C =\n",
    "\\begin{pmatrix} \n",
    "c_0 & c_{n-1} & c_{n-2} & \\dots & c_1 \\\\\n",
    "c_{1} & c_{0} & c_{n-1} & \\dots & c_2 \\\\\n",
    "c_{2} & c_{1} & c_0 & \\dots & c_3 \\\\\n",
    "\\dots & \\dots & \\dots & \\dots & \\dots \\\\\n",
    "c_{n-1} & c_{n-2} & c_{n-3} & \\dots & c_0\n",
    "\\end{pmatrix}\n",
    "$$"
   ]
  },
  {
   "cell_type": "markdown",
   "metadata": {
    "slideshow": {
     "slide_type": "slide"
    }
   },
   "source": [
    "**Theorem.** \n",
    "Let $C$ be a circulant matrix of size $n\\times n$ and let $c$ be it's first column , then\n",
    "\n",
    "$$\n",
    "C = \\frac{1}{n} F_n^* \\text{diag}(F_n c) F_n \n",
    "$$"
   ]
  },
  {
   "cell_type": "markdown",
   "metadata": {
    "slideshow": {
     "slide_type": "fragment"
    }
   },
   "source": [
    "*Proof.* \n",
    "- Consider a number \n",
    "\n",
    "$$\\lambda (\\omega) = c_0 + \\omega c_1 + \\dots + \\omega^{n-1} c_{n-1},$$ \n",
    "\n",
    "where $\\omega$ is any number such that $\\omega^n=1$. \n",
    "- Lets multiply $\\lambda$ by $1,\\omega,\\dots, \\omega^{n-1}$:\n",
    "\n",
    "$$\n",
    "\\begin{split}\n",
    "\\lambda & = c_0 &+& \\omega c_1 &+& \\dots &+& \\omega^{n-1} c_{n-1},\\\\\n",
    "\\lambda\\omega & = c_{n-1} &+& \\omega c_0 &+& \\dots &+& \\omega^{n-1} c_{n-2},\\\\\n",
    "\\lambda\\omega^2 & = c_{n-2} &+& \\omega c_{n-1} &+& \\dots &+& \\omega^{n-1} c_{n-3},\\\\\n",
    "&\\dots\\\\\n",
    "\\lambda\\omega^{n-1} & = c_{1} &+& \\omega c_{2} &+& \\dots &+& \\omega^{n-1} c_{0}.\n",
    "\\end{split}\n",
    "$$\n",
    "\n",
    "- Therefore,\n",
    "\n",
    "$$\n",
    "\\lambda(\\omega) \\cdot \\begin{pmatrix} 1&\\omega & \\dots& \\omega^{n-1} \\end{pmatrix} =\n",
    "\\begin{pmatrix} 1&\\omega&\\dots& \\omega^{n-1} \\end{pmatrix} \\cdot C.\n",
    "$$\n",
    "\n",
    "- Writing this for $\\omega = 1,w_n, \\dots, w_n^{n-1}$ we get\n",
    "\n",
    "$$\n",
    "\\Lambda F_n = F_n C\n",
    "$$\n",
    "\n",
    "and finally\n",
    "\n",
    "$$\n",
    "C = \\frac{1}{n} F^*_n \\Lambda F_n, \\quad \\text{where}\\quad \\Lambda = \\text{diag}(F_nc) \\qquad\\blacksquare\n",
    "$$"
   ]
  },
  {
   "cell_type": "markdown",
   "metadata": {
    "slideshow": {
     "slide_type": "slide"
    }
   },
   "source": [
    "## Fast matvec with circulant matrix\n",
    "\n",
    "- Representation $C = \\frac{1}{n} F^* \\text{diag}(F_n c) F_n $ gives us an explicit way to multiply a vector $x$ by $C$ in $\\mathcal{O}(n\\log n)$ operations. \n",
    "- Indeed,\n",
    "\n",
    "$$\n",
    "Cx = \\frac{1}{n} F_n^* \\text{diag}(F_n c) F_n x = \\text{ifft}\\left( \\text{fft}(c) \\circ \\text{fft}(x)\\right)\n",
    "$$\n",
    "\n",
    "where $\\circ$ denotes elementwise product (Hadamard product) of two vectors (since $\\text{diag}(a)b = a\\circ b$) and ```ifft``` denotes inverse Fourier transform $F^{-1}_n$."
   ]
  },
  {
   "cell_type": "code",
   "execution_count": 3,
   "metadata": {
    "slideshow": {
     "slide_type": "slide"
    }
   },
   "outputs": [
    {
     "name": "stdout",
     "output_type": "stream",
     "text": [
      "Full matvec time = 0.011294817562946783\n",
      "FFT time = 0.00012443668489951442\n",
      "Relative error = 7.183826224607303e-16\n"
     ]
    }
   ],
   "source": [
    "import numpy as np\n",
    "import scipy as sp\n",
    "import scipy.linalg\n",
    "\n",
    "def circulant_matvec(c, x):\n",
    "    return np.fft.ifft(np.fft.fft(c) * np.fft.fft(x))\n",
    "\n",
    "n = 5000\n",
    "c = np.random.random(n)\n",
    "C = sp.linalg.circulant(c)\n",
    "x = np.random.randn(n)\n",
    "\n",
    "\n",
    "y_full = C.dot(x)\n",
    "full_mv_time = %timeit -q -o C.dot(x)\n",
    "print('Full matvec time =', full_mv_time.average)\n",
    "\n",
    "\n",
    "y_fft = circulant_matvec(c, x)\n",
    "fft_mv_time = %timeit -q -o circulant_matvec(c, x)\n",
    "print('FFT time =', fft_mv_time.average)\n",
    "\n",
    "print('Relative error =', (np.linalg.norm(y_full - y_fft)) / np.linalg.norm(y_full))"
   ]
  },
  {
   "cell_type": "markdown",
   "metadata": {
    "slideshow": {
     "slide_type": "slide"
    }
   },
   "source": [
    "## Toeplitz matrices"
   ]
  },
  {
   "cell_type": "markdown",
   "metadata": {
    "slideshow": {
     "slide_type": "fragment"
    }
   },
   "source": [
    "Now we get back to Toeplitz matrices!\n",
    "\n",
    "$$\n",
    "T =\n",
    "\\begin{pmatrix} \n",
    "t_0 & t_{-1} & t_{-2} & t_{-3}& \\dots & t_{1-n} \\\\\n",
    "t_{1} & t_{0} & t_{-1} & t_{-2}& \\dots & t_{2-n} \\\\\n",
    "t_{2} & t_{1} & t_0 & t_{-1} &\\dots & t_{3-n} \\\\\n",
    "t_{3} & t_{2} & t_1 & t_0 & \\dots & t_{4-n} \\\\\n",
    "\\dots & \\dots & \\dots & \\dots & \\dots & \\dots\\\\\n",
    "t_{n-1} & t_{n-2} & t_{n-3} & t_{n-4} &\\dots &t_0\n",
    "\\end{pmatrix},\n",
    "$$\n",
    "\n",
    "or equivalently $T_{ij} = t_{i-j}$.\n",
    "\n",
    "Matvec operation can be written as\n",
    "\n",
    "$$\n",
    "y_i = \\sum_{j=1}^n t_{i-j} x_j,\n",
    "$$\n",
    "\n",
    "which can be interpreted as a discrete <font color='red'>convolution</font> of filter $t_i$ and signal $x_i$. \n",
    "For simplicity the size of the filter $t$ is such that the sizes of the input and output signals are the same. Generally, filter size can be arbitrary.\n",
    "\n",
    "Fast convolution computation has a variety of applications, for instance, in signal processing or partial differential and integral equations. For instance, here is the smoothing of a signal:"
   ]
  },
  {
   "cell_type": "code",
   "execution_count": 5,
   "metadata": {
    "slideshow": {
     "slide_type": "slide"
    }
   },
   "outputs": [
    {
     "data": {
      "image/png": "[encoded data removed]",
      "text/plain": [
       "<Figure size 432x288 with 3 Axes>"
      ]
     },
     "metadata": {
      "needs_background": "light"
     },
     "output_type": "display_data"
    }
   ],
   "source": [
    "from scipy import signal\n",
    "%matplotlib inline\n",
    "import matplotlib.pyplot as plt\n",
    "\n",
    "alpha = 0.01\n",
    "sig = np.repeat([0., 1., 0.], 100)\n",
    "filt = np.exp(-alpha * (np.arange(100)-50)**2)\n",
    "filtered = signal.convolve(sig, filt, mode='same') / sum(filt)\n",
    "\n",
    "fig, (ax_orig, ax_filt, ax_filtered) = plt.subplots(3, 1, sharex=True)\n",
    "ax_orig.plot(sig)\n",
    "ax_orig.margins(0, 0.1)\n",
    "ax_filt.plot(filt)\n",
    "ax_filt.margins(0, 0.1)\n",
    "ax_filtered.plot(filtered)\n",
    "ax_filtered.margins(0, 0.1)\n",
    "\n",
    "ax_orig.set_title('Original signal')\n",
    "ax_filt.set_title('Filter')\n",
    "ax_filtered.set_title('Convolution')\n",
    "\n",
    "fig.tight_layout()"
   ]
  },
  {
   "cell_type": "markdown",
   "metadata": {
    "slideshow": {
     "slide_type": "slide"
    }
   },
   "source": [
    "## Fast matvec with Toeplitz matrix\n",
    "\n",
    "**Key point**: the multiplication by a Toeplitz matrix can be reduced to the multiplication by a circulant.\n",
    "\n",
    "- Indeed, every Toeplitz matrix of size $n\\times n$ can be embedded into a Circulant matrix $C$ of size $2n \\times 2n$:\n",
    "\n",
    "$$\n",
    "C = \n",
    "\\begin{pmatrix}\n",
    "T & \\dots \\\\\n",
    "\\dots & \\dots\n",
    "\\end{pmatrix}.\n",
    "$$\n",
    "\n",
    "- The $3\\times 3$ matrix $T = \\begin{pmatrix} \n",
    "t_0 & t_{-1} & t_{-2} \\\\\n",
    "t_{1} & t_{0} & t_{-1} \\\\\n",
    "t_{2} & t_{1} & t_0 \\\\\n",
    "\\end{pmatrix}$ \n",
    "can be embedded as follows\n",
    "\n",
    "$$\n",
    "C = \n",
    "\\begin{pmatrix} \n",
    "t_0 & t_{-1} & t_{-2} & t_{2} & t_{1}\\\\\n",
    "t_{1} & t_{0} & t_{-1} & t_{-2} & t_{2} \\\\\n",
    "t_{2} & t_{1} & t_0 & t_{-1} & t_{-2} \\\\\n",
    "t_{-2}& t_{2} & t_{1} & t_0 & t_{-1}  \\\\\n",
    "t_{-1} & t_{-2} & t_{2} & t_{1} & t_0  \n",
    "\\end{pmatrix}.\n",
    "$$\n",
    "\n",
    "- For matvec \n",
    "$ \\begin{pmatrix} y_1 \\\\ y_2 \\\\ y_3 \\end{pmatrix}=\n",
    "\\begin{pmatrix} \n",
    "t_0 & t_{-1} & t_{-2} \\\\\n",
    "t_{1} & t_{0} & t_{-1} \\\\\n",
    "t_{2} & t_{1} & t_0 \\\\\n",
    "\\end{pmatrix}\n",
    "\\begin{pmatrix} x_1 \\\\ x_2 \\\\ x_3 \\end{pmatrix}$\n",
    "we pad vector $x$ with zeros:\n",
    "\n",
    "$$\n",
    "\\begin{pmatrix} y_1 \\\\ y_2 \\\\ y_3 \\\\ \\star \\\\ \\star \\end{pmatrix} =\n",
    "\\begin{pmatrix} \n",
    "t_0 & t_{-1} & t_{-2} & t_{2} & t_{1}\\\\\n",
    "t_{1} & t_{0} & t_{-1} & t_{-2} & t_{2} \\\\\n",
    "t_{2} & t_{1} & t_0 & t_{-1} & t_{-2} \\\\\n",
    "t_{-2}& t_{2} & t_{1} & t_0 & t_{-1}  \\\\\n",
    "t_{-1} & t_{-2} & t_{2} & t_{1} & t_0  \n",
    "\\end{pmatrix}\n",
    "\\begin{pmatrix} x_1 \\\\ x_2 \\\\ x_3 \\\\ 0 \\\\ 0 \\end{pmatrix}=\n",
    "\\text{ifft}(\\text{fft}(\\begin{pmatrix} t_0 \\\\ t_{1} \\\\ t_{2} \\\\ t_{-2} \\\\ t_{-1} \\end{pmatrix})\\circ \\text{fft}(\\begin{pmatrix} x_1 \\\\ x_2 \\\\ x_3 \\\\ 0 \\\\ 0 \\end{pmatrix})).\n",
    "$$\n",
    "\n",
    "- Note that you **do not need to form and store** the whole matrix $T$"
   ]
  },
  {
   "cell_type": "markdown",
   "metadata": {
    "slideshow": {
     "slide_type": "slide"
    }
   },
   "source": [
    "## Multilevel Toeplitz matrices\n",
    "\n",
    "The 2-dimensional convolution is defined as \n",
    "\n",
    "$$\n",
    "y_{i_1i_2} = \\sum_{j_1,j_2=1}^n t_{i_1-j_1, i_2-j_2} x_{j_1 j_2}.\n",
    "$$\n",
    "\n",
    "Note that $x$ and $y$ are 2-dimensional arrays and $T$ is 4-dimensional. \n",
    "To reduce this expression to matrix-by-vector product we have to reshape $x$ and $y$ into long vectors:\n",
    "\n",
    "$$\n",
    "\\text{vec}(x) = \n",
    "\\begin{pmatrix}\n",
    "x_{11} \\\\ \\vdots \\\\ x_{1n} \\\\ \\hline \\\\ \\vdots \\\\ \\hline \\\\ x_{n1} \\\\ \\vdots \\\\ x_{nn}\n",
    "\\end{pmatrix},\n",
    "\\quad\n",
    "\\text{vec}(y) = \n",
    "\\begin{pmatrix}\n",
    "y_{11} \\\\ \\vdots \\\\ y_{1n} \\\\ \\hline \\\\ \\vdots \\\\ \\hline \\\\ y_{n1} \\\\ \\vdots \\\\ y_{nn}\n",
    "\\end{pmatrix}.\n",
    "$$\n",
    "\n",
    "In this case matrix $T$ is **block Toeplitz with Toeplitz blocks:** (BTTB)\n",
    "\n",
    "$$\n",
    "T = \n",
    "\\begin{pmatrix} \n",
    "T_0 & T_{-1} & T_{-2} &  \\dots & T_{1-n} \\\\\n",
    "T_{1} & T_{0} & T_{-1} & \\dots & T_{2-n} \\\\\n",
    "T_{2} & T_{1} & T_0 & \\dots & T_{3-n} \\\\\n",
    "\\dots & \\dots & \\dots &  \\dots & \\dots\\\\\n",
    "T_{n-1} & T_{n-2} & T_{n-3}  &\\dots &T_0\n",
    "\\end{pmatrix},\n",
    "\\quad \\text{where} \\quad\n",
    "T_k = t_{k, i_2 - j_2}\\quad  \\text{are Toeplitz matrices}\n",
    "$$"
   ]
  },
  {
   "cell_type": "markdown",
   "metadata": {
    "slideshow": {
     "slide_type": "slide"
    }
   },
   "source": [
    "## Fast matvec with multilevel Toeplitz matrix\n",
    "\n",
    "To get fast matvec we need to embed block Toeplitz matrix with Toeplitz blocks into the block circulant matrix with circulant blocks. The analog of\n",
    "$$\\begin{pmatrix} y_1 \\\\ y_2 \\\\ y_3 \\\\ \\star \\\\ \\star \\end{pmatrix} =\n",
    "\\text{ifft}(\\text{fft}(\\begin{pmatrix} t_0 \\\\ t_{1} \\\\ t_{2} \\\\ t_{-2} \\\\ t_{-1} \\end{pmatrix})\\circ\\text{fft}(\\begin{pmatrix} x_1 \\\\ x_2 \\\\ x_3 \\\\ 0 \\\\ 0 \\end{pmatrix})).$$\n",
    "will look like\n",
    "$$ \\begin{pmatrix} y_{11} & y_{12} & y_{13} & \\star & \\star \\\\ \n",
    "y_{21} & y_{22} & y_{23} & \\star & \\star \\\\  \n",
    "y_{31} & y_{32} & y_{33} & \\star & \\star \\\\ \n",
    "\\star & \\star & \\star & \\star & \\star \\\\  \n",
    "\\star & \\star & \\star & \\star & \\star \\\\  \n",
    "\\end{pmatrix} = \\text{ifft2d}(\\text{fft2d}(\\begin{pmatrix} t_{0,0} & t_{1,0} & t_{2,0} & t_{-2,0} & t_{-1,0} \\\\ \n",
    "t_{0,1} & t_{1,1} & t_{2,1} & t_{-2,1} & t_{-1,1} \\\\  \n",
    "t_{0,2} & t_{1,2} & t_{2,2} & t_{-2,2} & t_{-1,2} \\\\ \n",
    "t_{0,-2} & t_{1,-2} & t_{2,-2} & t_{-2,-2} & t_{-1,-2} \\\\ \n",
    "t_{0,-1} & t_{1,-1} & t_{2,-1} & t_{-2,-1} & t_{-1,-1}\n",
    "\\end{pmatrix}) \\circ \\text{fft2d}(\\begin{pmatrix}x_{11} & x_{12} & x_{13} & 0 & 0 \\\\ \n",
    "x_{21} & x_{22} & x_{23} & 0 & 0 \\\\  \n",
    "x_{31} & x_{32} & x_{33} & 0 & 0 \\\\ \n",
    "0 & 0 & 0 & 0 & 0 \\\\  \n",
    "0 & 0 & 0 & 0 & 0 \\\\  \n",
    "\\end{pmatrix})),$$\n",
    "where fft2d is 2-dimensional fft that consists of one-dimensional transforms, applied first to rows and and then to columns (or vice versa)."
   ]
  },
  {
   "cell_type": "code",
   "execution_count": 6,
   "metadata": {
    "slideshow": {
     "slide_type": "slide"
    }
   },
   "outputs": [
    {
     "data": {
      "image/png": "[encoded data removed]",
      "text/plain": [
       "<Figure size 576x576 with 4 Axes>"
      ]
     },
     "metadata": {
      "needs_background": "light"
     },
     "output_type": "display_data"
    }
   ],
   "source": [
    "# Blurring and Sharpening Lena by convolution\n",
    "\n",
    "from scipy import signal\n",
    "import numpy as np\n",
    "import matplotlib.pyplot as plt\n",
    "%matplotlib  inline\n",
    "from scipy import misc\n",
    "import imageio\n",
    "\n",
    "filter_size = 3\n",
    "filter_blur = np.ones((filter_size, filter_size)) / filter_size**2\n",
    "lena = imageio.imread('./lena512.jpg')\n",
    "#lena = misc.face()\n",
    "#lena = lena[:, :, 0]\n",
    "blurred = signal.convolve2d(lena, filter_blur, boundary='symm', mode='same')\n",
    "\n",
    "fig, ax = plt.subplots(2, 2, figsize=(8, 8))\n",
    "ax[0, 0].imshow(lena[200:300, 200:300], cmap='gray')\n",
    "ax[0, 0].set_title('Original Lena')\n",
    "ax[0, 1].imshow(blurred[200:300, 200:300], cmap='gray')\n",
    "ax[0, 1].set_title('Blurred Lena')\n",
    "ax[1, 0].imshow((lena - blurred)[200:300, 200:300], cmap='gray')\n",
    "ax[1, 0].set_title('Lena $-$ Blurred Lena')\n",
    "ax[1, 1].imshow(((lena - blurred)*3 + blurred)[200:300, 200:300], cmap='gray')\n",
    "ax[1, 1].set_title('$3\\cdot$(Lena $-$ Blurred Lena) + Blurred Lena')\n",
    "fig.tight_layout()"
   ]
  },
  {
   "cell_type": "markdown",
   "metadata": {
    "slideshow": {
     "slide_type": "slide"
    }
   },
   "source": [
    "## Solving linear systems with Toeplitz matrix\n",
    "\n",
    "- Convolution is ok; but what about **deconvolution**, or solving linear systems with Toeplitz matrices?\n",
    "\n",
    "$$T x = f.$$\n",
    "\n",
    "- For the periodic case, where $T = C$ is circulant, \n",
    "\n",
    "we have the spectral theorem\n",
    "\n",
    "$$C = \\frac{1}{n}F^* \\Lambda F, \\quad C^{-1} = \\frac{1}{n}F^* \\Lambda^{-1} F,$$\n",
    "\n",
    "but for a general Toeplitz matrices, it is not a trivial question."
   ]
  },
  {
   "cell_type": "markdown",
   "metadata": {
    "slideshow": {
     "slide_type": "slide"
    }
   },
   "source": [
    "## Iterative methods\n",
    "\n",
    "- Not-a-bad recipe for Toeplitz linear system is to use **iterative method** (fast matvec is available).\n",
    "\n",
    "- A good choice for a preconditioner is a **circulant matrix**."
   ]
  },
  {
   "cell_type": "markdown",
   "metadata": {
    "slideshow": {
     "slide_type": "slide"
    }
   },
   "source": [
    "## Circulant preconditioner\n",
    "\n",
    "- A natural idea is to use **circulants** as preconditioners, since they are easy to invert.\n",
    "\n",
    "- The first preconditioner was the preconditioner by **Raymond Chan and Gilbert Strang**, who proposed to take the first column of the matrix and use it to generate the circulant.\n",
    "\n",
    "- The second preconditioner is the **Tony Chan** preconditioner, which is also very natural: \n",
    "\n",
    "$$C = \\arg \\min_P \\Vert P - T \\Vert_F.$$\n",
    "\n",
    "- A simple formula for the entries of $C$ can be derived."
   ]
  },
  {
   "cell_type": "code",
   "execution_count": 9,
   "metadata": {
    "slideshow": {
     "slide_type": "slide"
    }
   },
   "outputs": [
    {
     "data": {
      "image/png": "[encoded data removed]",
      "text/plain": [
       "<Figure size 432x288 with 1 Axes>"
      ]
     },
     "metadata": {
      "needs_background": "light"
     },
     "output_type": "display_data"
    },
    {
     "data": {
      "image/png": "[encoded data removed]",
      "text/plain": [
       "<Figure size 432x288 with 1 Axes>"
      ]
     },
     "metadata": {
      "needs_background": "light"
     },
     "output_type": "display_data"
    }
   ],
   "source": [
    "import numpy as np\n",
    "import scipy.linalg\n",
    "%matplotlib inline\n",
    "import matplotlib.pyplot as plt\n",
    "import seaborn as sns\n",
    "n = 100\n",
    "c = np.zeros(n)\n",
    "c[0] = -2\n",
    "c[1] = 1\n",
    "Tm = sp.linalg.toeplitz(c, c)\n",
    "\n",
    "\n",
    "c1 = sp.linalg.circulant(c) #Strang preconditioner\n",
    "Fmat = 1.0/np.sqrt(n) * np.fft.fft(np.eye(n)) #Poor man's Fourier matrix\n",
    "\n",
    "d2 = np.diag(Fmat.conj().dot(Tm).dot(Fmat))\n",
    "c2 = Fmat.dot(np.diag(d2)).dot(Fmat.conj().T)\n",
    "\n",
    "\n",
    "mat = np.linalg.inv(c1).dot(Tm)\n",
    "ev = np.linalg.eigvals(mat).real\n",
    "plt.plot(np.sort(ev), np.ones(n), 'o')\n",
    "plt.xlabel('Eigenvalues for Strang preconditioner')\n",
    "plt.gca().get_yaxis().set_visible(False)\n",
    "\n",
    "mat = np.linalg.inv(c2).dot(Tm)\n",
    "ev = np.linalg.eigvals(mat).real\n",
    "plt.figure()\n",
    "plt.plot(np.sort(ev), np.ones(n), 'o')\n",
    "plt.xlabel('Eigenvalues for T. Chan Preconditioner')\n",
    "plt.gca().get_yaxis().set_visible(False)\n"
   ]
  },
  {
   "cell_type": "markdown",
   "metadata": {
    "slideshow": {
     "slide_type": "slide"
    }
   },
   "source": [
    "## Direct methods for Toeplitz matrices\n",
    "\n",
    "- The idea with preconditioners works for 2D/3D convolutions, but much worse.\n",
    "\n",
    "- In 1D case it is also possible to find direct solvers for the Toeplitz matrix, based on the structure of the inverse.\n",
    "\n",
    "- But the inverse of a Toeplitz matrix is not Toeplitz!\n",
    "\n",
    "- What to do?"
   ]
  },
  {
   "cell_type": "markdown",
   "metadata": {
    "slideshow": {
     "slide_type": "slide"
    }
   },
   "source": [
    "## Low displacement rank structure\n",
    "\n",
    "- The Toeplitz matrices belong to a more general class of **low displacement rank** matrices.\n",
    "\n",
    "- Define the **scaled periodic shift matrix** $Z_e$ that takes the vector $x$ and transforms it to a vector\n",
    "\n",
    "$$Z_e x = \\begin{bmatrix}\n",
    "e x_{n-1} \\\\\n",
    "x_1 \\\\\n",
    "x_2 \\\\\n",
    "\\vdots \\\\\n",
    "x_{n-2}\n",
    "\\end{bmatrix}\n",
    "$$\n",
    "\n",
    "- What is the matrix form of this linear operator?"
   ]
  },
  {
   "cell_type": "markdown",
   "metadata": {
    "slideshow": {
     "slide_type": "slide"
    }
   },
   "source": [
    "## Shift matrices, displacement matrices and Toeplitz matrices\n",
    "\n",
    "Given a Toeplitz matrix $T$, we select any $e, f$ such that $ef \\ne 1$ and define the displacement operator as\n",
    "\n",
    "$$L(T) = Z_e T - T Z_f.$$\n",
    "\n",
    "For a Toeplitz matrix, $L(T)$ has **rank 2** (it has only first row and last column non-zero)"
   ]
  },
  {
   "cell_type": "code",
   "execution_count": 10,
   "metadata": {
    "slideshow": {
     "slide_type": "slide"
    }
   },
   "outputs": [
    {
     "name": "stdout",
     "output_type": "stream",
     "text": [
      "[[-1.   0.   0.   0.5  0. ]\n",
      " [ 0.   0.   0.   0.  -0.5]\n",
      " [ 0.   0.   0.   0.   0. ]\n",
      " [ 0.   0.   0.   0.   0. ]\n",
      " [ 0.   0.   0.   0.   1. ]]\n"
     ]
    }
   ],
   "source": [
    "import numpy as np\n",
    "import scipy.linalg\n",
    "n = 5 \n",
    "c = np.zeros(n)\n",
    "c[0] = -2\n",
    "c[1] = 1\n",
    "T = sp.linalg.toeplitz(c, c)\n",
    "e = 0.5\n",
    "f = 0.5\n",
    "def Z_shift(e):\n",
    "    return  np.diag(np.ones(n-1), -1)  + e * np.diag(np.ones(1), n-1)\n",
    "\n",
    "Z1 = Z_shift(e)\n",
    "Z2 = Z_shift(f)\n",
    "\n",
    "print(Z1.dot(T) - T.dot(Z2))"
   ]
  },
  {
   "cell_type": "markdown",
   "metadata": {
    "slideshow": {
     "slide_type": "slide"
    }
   },
   "source": [
    "What about the inverse?\n",
    "\n",
    "It is also of rank $2$ !"
   ]
  },
  {
   "cell_type": "code",
   "execution_count": 11,
   "metadata": {
    "slideshow": {
     "slide_type": "slide"
    }
   },
   "outputs": [
    {
     "data": {
      "text/plain": [
       "array([1.02062073e+00, 1.02062073e+00, 2.60439840e-16, 6.95949729e-17,\n",
       "       2.21601201e-17])"
      ]
     },
     "execution_count": 11,
     "metadata": {},
     "output_type": "execute_result"
    }
   ],
   "source": [
    "import numpy as np\n",
    "import scipy.linalg\n",
    "n = 5 \n",
    "c = np.zeros(n)\n",
    "c[0] = -2\n",
    "c[1] = 1\n",
    "T = sp.linalg.toeplitz(c, c)\n",
    "e = 0.5\n",
    "f = 0.5\n",
    "def Z_shift(e):\n",
    "    return  np.diag(np.ones(n-1), -1)  + e * np.diag(np.ones(1), n-1)\n",
    "\n",
    "Z1 = Z_shift(e)\n",
    "Z2 = Z_shift(f)\n",
    "\n",
    "Tinv = np.linalg.inv(T)\n",
    "\n",
    "p1 = Z1.dot(Tinv) - Tinv.dot(Z2)\n",
    "np.linalg.svd(p1)[1]"
   ]
  },
  {
   "cell_type": "markdown",
   "metadata": {
    "slideshow": {
     "slide_type": "slide"
    }
   },
   "source": [
    "## Small displacement rank: definition\n",
    "\n",
    "- The matrix is said to be of **displacement rank $r$** with respect to the pair of generators $Z_e, Z_f$, if\n",
    "\n",
    "$$L(T) = Z_e T - T Z_f = GH^{\\top},$$\n",
    "\n",
    "where $G$ is $n \\times r$ and $H$ is $n \\times r$.\n",
    "\n",
    "- It is similar to \"discrete derivative\""
   ]
  },
  {
   "cell_type": "markdown",
   "metadata": {
    "slideshow": {
     "slide_type": "slide"
    }
   },
   "source": [
    "## Theorem on the inverse structure\n",
    "\n",
    "Let $T$ satisfy\n",
    "\n",
    "$$Z_e T - T Z_f = GH ^{\\top},$$\n",
    "\n",
    "and let it be invertible.\n",
    "\n",
    "Then we have\n",
    "\n",
    "$$T^{-1} (Z_e T - T Z_f) T^{-1} = T^{-1} Z_e - Z_f T^{-1} = T^{-1} G H^{\\top} T^{-1},$$\n",
    "\n",
    "i.e. the inverse has **small displacement rank** with the reversed pair of generators $Z_e, Z_f$ (why?)."
   ]
  },
  {
   "cell_type": "markdown",
   "metadata": {
    "slideshow": {
     "slide_type": "slide"
    }
   },
   "source": [
    "## Recovering a matrix from the displacement representation\n",
    "\n",
    "- Does the low-rank representation after the displacement operator describe the structure?\n",
    "\n",
    "- I.e. we need to solve the equation of the form\n",
    "\n",
    "$$Z_e T - T Z_f = GH^{\\top} = B$$\n",
    "\n",
    "for a given right-hand side.\n",
    "\n",
    "- This is a linear system of equations in disguise! (Do you see that this is a linear system? What is the size of this linear system?)"
   ]
  },
  {
   "cell_type": "markdown",
   "metadata": {
    "slideshow": {
     "slide_type": "slide"
    }
   },
   "source": [
    "## Sylvester equation\n",
    "\n",
    "- The equation above is a special case of the **Sylvester matrix equation** which has the general form\n",
    "\n",
    "$$AX - X B = C,$$\n",
    "\n",
    "with $A$, $B$ and $C$ given.\n",
    "\n",
    "- In general, this is a linear system with $\\mathcal{O}(n^2)$ unknowns, and the computational cost is expected to be $n^6$.\n",
    "\n",
    "- For Sylvester equation we can solve it in $\\mathcal{O}(n^3)$ (will see in the next part on matrix equations)\n",
    "\n",
    "- But we can do better for specific $A, B$."
   ]
  },
  {
   "cell_type": "markdown",
   "metadata": {
    "slideshow": {
     "slide_type": "slide"
    }
   },
   "source": [
    "## Back to the particular case\n",
    "\n",
    "For the particular case, we have\n",
    "\n",
    "$$Z_e T - T Z_f = GH^{\\top} = B,$$\n",
    "\n",
    "and the solution is given by\n",
    "\n",
    "$$ (e - f) T = \\sum_{j = 1}^r Z_e(g_j) Z_f( J h_j), $$\n",
    "\n",
    "where $Z_e$ is the **e-scaled circulant** generated by the vector, and $g_j$, and $h_j$ are the columns of the matrices $G$ and $H$, and $J$ is the **per-identity matrix** (which has ones on the anti-diagonal)."
   ]
  },
  {
   "cell_type": "markdown",
   "metadata": {
    "slideshow": {
     "slide_type": "slide"
    }
   },
   "source": [
    "## Gohberg-Semencul formula\n",
    "\n",
    "Based on this idea and for the special case when $e = 0, f \\rightarrow \\inf$, we get the following famous formula for the inverse of the Toeplitz matrices as a sum \n",
    "of two products of **triangular** Toeplitz matrices:\n",
    "\n",
    "Let $A$ be a Toeplitz matrix, and\n",
    "\n",
    "$$A \\begin{bmatrix} x_0 \\\\ x_1 \\\\ \\vdots \\\\ x_n \\end{bmatrix}=\\begin{bmatrix} 1 \\\\ 0 \\\\ \\vdots \\\\ 0 \\end{bmatrix},\n",
    "\\quad \n",
    "A \\begin{bmatrix} y_0 \\\\ y_1 \\\\ \\vdots \\\\ y_n \\end{bmatrix}=\\begin{bmatrix} 0 \\\\ 0 \\\\ \\vdots \\\\ 1 \\end{bmatrix}\n",
    "$$\n",
    "\n",
    "then \n",
    "\n",
    "$$A^{-1} = \\frac{1}{x_0} \\begin{bmatrix} x_0 & 0 & \\ldots & 0 \\\\ x_1 & x_0 & 0 & \\ldots \\\\ \\ldots & \\ldots \\\\ x_n & \\ldots & \\ldots & x_0 \\end{bmatrix}\\begin{bmatrix} u_0 & u_1 & \\ldots & 0 \\\\ 0 & u_0 & u_1 & \\ldots \\\\ \\ldots & \\ldots \\\\ 0 & \\ldots & \\ldots & u_0 \\end{bmatrix}-\\frac{1}{x_0} \\begin{bmatrix} 0 & 0 & \\ldots & 0 \\\\ y_0 & 0 & 0 & \\ldots \\\\ y_1 & y_0 & \\ldots  \\\\ \\ldots & \\ldots & \\\\ y_{n-1} & \\ldots & y_0 & 0 \\end{bmatrix}\\begin{bmatrix} 0 & v_0 & \\ldots & 0 \\\\ 0 & 0 & v_0 & v_1 \\\\ \\ldots & \\ldots   \\\\ \\ldots & \\ldots & \\ldots & v_0 \\\\ 0 & \\ldots & \\ldots & 0\\end{bmatrix},$$\n",
    "\n",
    "where $u_y = y_{n-i}, \\quad v_i = x_{n-i}$.\n",
    "\n",
    "The main meaning: the inverse can be recovered from **the first column** and the **last column** of the matrix.\n",
    "\n",
    "For details, I refer to the book by Tyrtyshnikov \"Brief introduction to numerical analysis\". "
   ]
  },
  {
   "cell_type": "markdown",
   "metadata": {
    "slideshow": {
     "slide_type": "slide"
    }
   },
   "source": [
    "## Fast and superfast direct methods\n",
    "\n",
    "- For many years, these formulas gave rise to the fast $\\mathcal{O}(n^2)$ and superfast $\\mathcal{O}(n \\log n)$ methods for Toeplitz matrices.\n",
    "\n",
    "- The basic idea is that you use **augmentation method**. \n",
    "\n",
    "- Consider that you have computed the **inverse** of a $(n-1) \\times (n-1)$ block of the Toeplitz matrix.\n",
    "\n",
    "- You only need to store two vectors to represent the inverse.\n",
    "\n",
    "- Then, the bigger matrix can be written in the block form.\n",
    "\n",
    "$$T_n = \\begin{bmatrix} T_{n-1} & a \\\\ b^{\\top} & c \\end{bmatrix}.$$\n",
    "\n",
    "- We only need to recompute the last and the first column!\n"
   ]
  },
  {
   "cell_type": "markdown",
   "metadata": {
    "slideshow": {
     "slide_type": "slide"
    }
   },
   "source": [
    "## Recomputing the last and the first columns\n",
    "\n",
    "- Let us split the vector as \n",
    "\n",
    "$$x = \\begin{bmatrix} x_1 & x_2 \\end{bmatrix}.$$\n",
    "\n",
    "- Then,\n",
    "\n",
    "$$T_{n-1} x_1 + a x_2 = e_1, \\quad b^{\\top} x_1 + c x_2 = 0.$$\n",
    "\n",
    "- Or, \n",
    "\n",
    "$$  x_1 = T^{-1}_{n-1} e_1 - T^{-1}_n a x_2.$$\n",
    "\n",
    "- Application of $T^{-1}_{n-1}$ costs $\\mathcal{O}(n \\log n)$ operations, thus $x_2$ will be recovered in the same number of operations as well. The total complexity is then $\\mathcal{O}(n^2 \\log n)$ operations.\n",
    "\n",
    "- **Superfast algorithms** are obtained in terms of reducing the problem to the computations with polynomials and using **block** elimination (in the Fourier style)."
   ]
  },
  {
   "cell_type": "markdown",
   "metadata": {
    "slideshow": {
     "slide_type": "slide"
    }
   },
   "source": [
    "## Other types of low-displacement rank matrices\n",
    "\n",
    "- Hankel matrices\n",
    "- Cauchy matrices\n",
    "- Vandermonde matrices"
   ]
  },
  {
   "cell_type": "markdown",
   "metadata": {
    "slideshow": {
     "slide_type": "slide"
    }
   },
   "source": [
    "## Take home message\n",
    "\n",
    "- Toeplitz matrices, Circulant matrices, Spectral theorem, FFT\n",
    "- Multilevel Toeplitz matrices"
   ]
  },
  {
   "cell_type": "code",
   "execution_count": 21,
   "metadata": {
    "slideshow": {
     "slide_type": "skip"
    }
   },
   "outputs": [
    {
     "data": {
      "text/html": [
       "<link href='http://fonts.googleapis.com/css?family=Fenix' rel='stylesheet' type='text/css'>\n",
       "<link href='http://fonts.googleapis.com/css?family=Alegreya+Sans:100,300,400,500,700,800,900,100italic,300italic,400italic,500italic,700italic,800italic,900italic' rel='stylesheet' type='text/css'>\n",
       "<link href='http://fonts.googleapis.com/css?family=Source+Code+Pro:300,400' rel='stylesheet' type='text/css'>\n",
       "<style>\n",
       "    @font-face {\n",
       "        font-family: \"Computer Modern\";\n",
       "        src: url('http://mirrors.ctan.org/fonts/cm-unicode/fonts/otf/cmunss.otf');\n",
       "    }\n",
       "    div.cell{\n",
       "        /*width:80%;*/\n",
       "        /*margin-left:auto !important;\n",
       "        margin-right:auto;*/\n",
       "    }\n",
       "    h1 {\n",
       "        font-family: 'Alegreya Sans', sans-serif;\n",
       "    }\n",
       "    h2 {\n",
       "        font-family: 'Fenix', serif;\n",
       "    }\n",
       "    h3{\n",
       "\t\tfont-family: 'Fenix', serif;\n",
       "        margin-top:12px;\n",
       "        margin-bottom: 3px;\n",
       "       }\n",
       "\th4{\n",
       "\t\tfont-family: 'Fenix', serif;\n",
       "       }\n",
       "    h5 {\n",
       "        font-family: 'Alegreya Sans', sans-serif;\n",
       "    }\t   \n",
       "    div.text_cell_render{\n",
       "        font-family: 'Alegreya Sans',Computer Modern, \"Helvetica Neue\", Arial, Helvetica, Geneva, sans-serif;\n",
       "        line-height: 1.2;\n",
       "        font-size: 120%;\n",
       "        /*width:70%;*/\n",
       "        /*margin-left:auto;*/\n",
       "        margin-right:auto;\n",
       "    }\n",
       "    .CodeMirror{\n",
       "            font-family: \"Source Code Pro\";\n",
       "\t\t\tfont-size: 90%;\n",
       "    }\n",
       "/*    .prompt{\n",
       "        display: None;\n",
       "    }*/\n",
       "    .text_cell_render h1 {\n",
       "        font-weight: 200;\n",
       "        font-size: 50pt;\n",
       "\t\tline-height: 110%;\n",
       "        color:#CD2305;\n",
       "        margin-bottom: 0.5em;\n",
       "        margin-top: 0.5em;\n",
       "        display: block;\n",
       "    }\t\n",
       "    .text_cell_render h5 {\n",
       "        font-weight: 300;\n",
       "        font-size: 16pt;\n",
       "        color: #CD2305;\n",
       "        font-style: italic;\n",
       "        margin-bottom: .5em;\n",
       "        margin-top: 0.5em;\n",
       "        display: block;\n",
       "    }\n",
       "    \n",
       "    li {\n",
       "        line-height: 110%;\n",
       "    }\n",
       "    .warning{\n",
       "        color: rgb( 240, 20, 20 )\n",
       "        }  \n",
       "\n",
       "</style>\n",
       "\n",
       "<script>\n",
       "    MathJax.Hub.Config({\n",
       "                        TeX: {\n",
       "                           extensions: [\"AMSmath.js\"]\n",
       "                           },\n",
       "                tex2jax: {\n",
       "                    inlineMath: [ ['$','$'], [\"\\\\(\",\"\\\\)\"] ],\n",
       "                    displayMath: [ ['$$','$$'], [\"\\\\[\",\"\\\\]\"] ]\n",
       "                },\n",
       "                displayAlign: 'center', // Change this to 'center' to center equations.\n",
       "                \"HTML-CSS\": {\n",
       "                    styles: {'.MathJax_Display': {\"margin\": 4}}\n",
       "                }\n",
       "        });\n",
       "</script>\n"
      ],
      "text/plain": [
       "<IPython.core.display.HTML object>"
      ]
     },
     "execution_count": 21,
     "metadata": {},
     "output_type": "execute_result"
    }
   ],
   "source": [
    "from IPython.core.display import HTML\n",
    "def css_styling():\n",
    "    styles = open(\"./styles/custom.css\", \"r\").read()\n",
    "    return HTML(styles)\n",
    "css_styling()"
   ]
  }
 ],
 "metadata": {
  "anaconda-cloud": {},
  "celltoolbar": "Slideshow",
  "kernelspec": {
   "display_name": "Python 3",
   "language": "python",
   "name": "python3"
  },
  "language_info": {
   "codemirror_mode": {
    "name": "ipython",
    "version": 3
   },
   "file_extension": ".py",
   "mimetype": "text/x-python",
   "name": "python",
   "nbconvert_exporter": "python",
   "pygments_lexer": "ipython3",
   "version": "3.6.9"
  },
  "nav_menu": {},
  "toc": {
   "navigate_menu": true,
   "number_sections": false,
   "sideBar": true,
   "threshold": 6,
   "toc_cell": false,
   "toc_section_display": "block",
   "toc_window_display": false
  }
 },
 "nbformat": 4,
 "nbformat_minor": 1
}
